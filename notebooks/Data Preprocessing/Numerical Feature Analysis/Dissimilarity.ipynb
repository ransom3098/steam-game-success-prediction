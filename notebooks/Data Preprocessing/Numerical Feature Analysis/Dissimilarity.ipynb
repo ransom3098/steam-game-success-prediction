{
 "cells": [
  {
   "cell_type": "code",
   "execution_count": 1,
   "id": "654c5c98-a82e-47dd-b786-1c3102d99905",
   "metadata": {},
   "outputs": [],
   "source": [
    "import pandas as pd\n",
    "import numpy as np\n",
    "from sklearn.preprocessing import StandardScaler\n",
    "import seaborn as sns\n",
    "import matplotlib.pyplot as plt\n"
   ]
  },
  {
   "cell_type": "code",
   "execution_count": 2,
   "id": "c85945f8-369f-43e8-a893-2df73e8a30de",
   "metadata": {},
   "outputs": [],
   "source": [
    "# Load dataset\n",
    "file_path = 'Cleaned_Steam_Dataset.xlsx'\n",
    "data = pd.read_excel(file_path)"
   ]
  },
  {
   "cell_type": "code",
   "execution_count": 3,
   "id": "26a8aa3b-1b6e-4023-84f5-d83b1f6c08d5",
   "metadata": {},
   "outputs": [],
   "source": [
    "# Selecting relevant columns for analysis\n",
    "data_subset = data[['Net Revenue (in million $)', 'User Ratings']]"
   ]
  },
  {
   "cell_type": "code",
   "execution_count": 4,
   "id": "8b544c97-774f-4cc9-8a30-21a6b9b473a3",
   "metadata": {},
   "outputs": [],
   "source": [
    "# Weights\n",
    "weights = [0.5, 0.5]  # Adjust these weights as needed for importance\n"
   ]
  },
  {
   "cell_type": "code",
   "execution_count": 9,
   "id": "eb1f13c2-07f8-4add-b9de-484fb814814a",
   "metadata": {},
   "outputs": [
    {
     "name": "stderr",
     "output_type": "stream",
     "text": [
      "/var/folders/xv/wq7mr3g17qv81kq0q5kclg1w0000gn/T/ipykernel_2360/857227133.py:3: SettingWithCopyWarning: \n",
      "A value is trying to be set on a copy of a slice from a DataFrame.\n",
      "Try using .loc[row_indexer,col_indexer] = value instead\n",
      "\n",
      "See the caveats in the documentation: https://pandas.pydata.org/pandas-docs/stable/user_guide/indexing.html#returning-a-view-versus-a-copy\n",
      "  data_subset[['Net Revenue (in million $)', 'User Ratings']] = scaler.fit_transform(\n"
     ]
    }
   ],
   "source": [
    "# Standardize numeric features\n",
    "scaler = StandardScaler()\n",
    "data_subset[['Net Revenue (in million $)', 'User Ratings']] = scaler.fit_transform(\n",
    "    data_subset[['Net Revenue (in million $)', 'User Ratings']]\n",
    ")"
   ]
  },
  {
   "cell_type": "code",
   "execution_count": 11,
   "id": "c8a3b6c5-999c-41ec-ad13-42746b33cb39",
   "metadata": {},
   "outputs": [],
   "source": [
    "# Function to calculate weighted Euclidean distance\n",
    "def weighted_euclidean_distance(x, y, weights):\n",
    "    squared_diff = [(xi - yi) ** 2 * w for xi, yi, w in zip(x, y, weights)]\n",
    "    return np.sqrt(sum(squared_diff))"
   ]
  },
  {
   "cell_type": "code",
   "execution_count": 13,
   "id": "6418b8bc-eb33-4602-aab9-7b0e9565ab95",
   "metadata": {},
   "outputs": [],
   "source": [
    "# Calculate the dissimilarity matrix using weighted Euclidean distance\n",
    "dissimilarity_matrix = np.zeros((len(data_subset), len(data_subset)))\n",
    "for i in range(len(data_subset)):\n",
    "    for j in range(len(data_subset)):\n",
    "        x = data_subset.iloc[i, 1:].values  # Exclude 'Title'\n",
    "        y = data_subset.iloc[j, 1:].values  # Exclude 'Title'\n",
    "        dissimilarity_matrix[i][j] = weighted_euclidean_distance(x, y, weights)\n"
   ]
  },
  {
   "cell_type": "code",
   "execution_count": 14,
   "id": "16317ffa-405d-4b21-8e36-06db9ebecacb",
   "metadata": {},
   "outputs": [
    {
     "name": "stdout",
     "output_type": "stream",
     "text": [
      "[[0.         0.         0.         ... 1.99093866 1.49320399 1.49320399]\n",
      " [0.         0.         0.         ... 1.99093866 1.49320399 1.49320399]\n",
      " [0.         0.         0.         ... 1.99093866 1.49320399 1.49320399]\n",
      " ...\n",
      " [1.99093866 1.99093866 1.99093866 ... 0.         0.49773466 0.49773466]\n",
      " [1.49320399 1.49320399 1.49320399 ... 0.49773466 0.         0.        ]\n",
      " [1.49320399 1.49320399 1.49320399 ... 0.49773466 0.         0.        ]]\n"
     ]
    }
   ],
   "source": [
    "# Display the dissimilarity matrix\n",
    "print(dissimilarity_matrix)"
   ]
  },
  {
   "cell_type": "code",
   "execution_count": 15,
   "id": "982f73f7-386d-46c2-b513-5d269af21a26",
   "metadata": {},
   "outputs": [
    {
     "ename": "KeyError",
     "evalue": "'Title'",
     "output_type": "error",
     "traceback": [
      "\u001b[0;31m---------------------------------------------------------------------------\u001b[0m",
      "\u001b[0;31mKeyError\u001b[0m                                  Traceback (most recent call last)",
      "File \u001b[0;32m/opt/anaconda3/lib/python3.12/site-packages/pandas/core/indexes/base.py:3805\u001b[0m, in \u001b[0;36mIndex.get_loc\u001b[0;34m(self, key)\u001b[0m\n\u001b[1;32m   3804\u001b[0m \u001b[38;5;28;01mtry\u001b[39;00m:\n\u001b[0;32m-> 3805\u001b[0m     \u001b[38;5;28;01mreturn\u001b[39;00m \u001b[38;5;28mself\u001b[39m\u001b[38;5;241m.\u001b[39m_engine\u001b[38;5;241m.\u001b[39mget_loc(casted_key)\n\u001b[1;32m   3806\u001b[0m \u001b[38;5;28;01mexcept\u001b[39;00m \u001b[38;5;167;01mKeyError\u001b[39;00m \u001b[38;5;28;01mas\u001b[39;00m err:\n",
      "File \u001b[0;32mindex.pyx:167\u001b[0m, in \u001b[0;36mpandas._libs.index.IndexEngine.get_loc\u001b[0;34m()\u001b[0m\n",
      "File \u001b[0;32mindex.pyx:196\u001b[0m, in \u001b[0;36mpandas._libs.index.IndexEngine.get_loc\u001b[0;34m()\u001b[0m\n",
      "File \u001b[0;32mpandas/_libs/hashtable_class_helper.pxi:7081\u001b[0m, in \u001b[0;36mpandas._libs.hashtable.PyObjectHashTable.get_item\u001b[0;34m()\u001b[0m\n",
      "File \u001b[0;32mpandas/_libs/hashtable_class_helper.pxi:7089\u001b[0m, in \u001b[0;36mpandas._libs.hashtable.PyObjectHashTable.get_item\u001b[0;34m()\u001b[0m\n",
      "\u001b[0;31mKeyError\u001b[0m: 'Title'",
      "\nThe above exception was the direct cause of the following exception:\n",
      "\u001b[0;31mKeyError\u001b[0m                                  Traceback (most recent call last)",
      "Cell \u001b[0;32mIn[15], line 6\u001b[0m\n\u001b[1;32m      1\u001b[0m \u001b[38;5;66;03m# Create a heatmap for the dissimilarity matrix\u001b[39;00m\n\u001b[1;32m      2\u001b[0m sns\u001b[38;5;241m.\u001b[39mheatmap(\n\u001b[1;32m      3\u001b[0m     dissimilarity_matrix,\n\u001b[1;32m      4\u001b[0m     annot\u001b[38;5;241m=\u001b[39m\u001b[38;5;28;01mFalse\u001b[39;00m,\n\u001b[1;32m      5\u001b[0m     cmap\u001b[38;5;241m=\u001b[39m\u001b[38;5;124m\"\u001b[39m\u001b[38;5;124mYlGnBu\u001b[39m\u001b[38;5;124m\"\u001b[39m,\n\u001b[0;32m----> 6\u001b[0m     xticklabels\u001b[38;5;241m=\u001b[39mdata_subset[\u001b[38;5;124m'\u001b[39m\u001b[38;5;124mTitle\u001b[39m\u001b[38;5;124m'\u001b[39m],\n\u001b[1;32m      7\u001b[0m     yticklabels\u001b[38;5;241m=\u001b[39mdata_subset[\u001b[38;5;124m'\u001b[39m\u001b[38;5;124mTitle\u001b[39m\u001b[38;5;124m'\u001b[39m]\n\u001b[1;32m      8\u001b[0m )\n\u001b[1;32m      9\u001b[0m plt\u001b[38;5;241m.\u001b[39mtitle(\u001b[38;5;124m\"\u001b[39m\u001b[38;5;124mWeighted Dissimilarity Matrix\u001b[39m\u001b[38;5;124m\"\u001b[39m)\n\u001b[1;32m     10\u001b[0m plt\u001b[38;5;241m.\u001b[39mxticks(rotation\u001b[38;5;241m=\u001b[39m\u001b[38;5;241m90\u001b[39m)\n",
      "File \u001b[0;32m/opt/anaconda3/lib/python3.12/site-packages/pandas/core/frame.py:4102\u001b[0m, in \u001b[0;36mDataFrame.__getitem__\u001b[0;34m(self, key)\u001b[0m\n\u001b[1;32m   4100\u001b[0m \u001b[38;5;28;01mif\u001b[39;00m \u001b[38;5;28mself\u001b[39m\u001b[38;5;241m.\u001b[39mcolumns\u001b[38;5;241m.\u001b[39mnlevels \u001b[38;5;241m>\u001b[39m \u001b[38;5;241m1\u001b[39m:\n\u001b[1;32m   4101\u001b[0m     \u001b[38;5;28;01mreturn\u001b[39;00m \u001b[38;5;28mself\u001b[39m\u001b[38;5;241m.\u001b[39m_getitem_multilevel(key)\n\u001b[0;32m-> 4102\u001b[0m indexer \u001b[38;5;241m=\u001b[39m \u001b[38;5;28mself\u001b[39m\u001b[38;5;241m.\u001b[39mcolumns\u001b[38;5;241m.\u001b[39mget_loc(key)\n\u001b[1;32m   4103\u001b[0m \u001b[38;5;28;01mif\u001b[39;00m is_integer(indexer):\n\u001b[1;32m   4104\u001b[0m     indexer \u001b[38;5;241m=\u001b[39m [indexer]\n",
      "File \u001b[0;32m/opt/anaconda3/lib/python3.12/site-packages/pandas/core/indexes/base.py:3812\u001b[0m, in \u001b[0;36mIndex.get_loc\u001b[0;34m(self, key)\u001b[0m\n\u001b[1;32m   3807\u001b[0m     \u001b[38;5;28;01mif\u001b[39;00m \u001b[38;5;28misinstance\u001b[39m(casted_key, \u001b[38;5;28mslice\u001b[39m) \u001b[38;5;129;01mor\u001b[39;00m (\n\u001b[1;32m   3808\u001b[0m         \u001b[38;5;28misinstance\u001b[39m(casted_key, abc\u001b[38;5;241m.\u001b[39mIterable)\n\u001b[1;32m   3809\u001b[0m         \u001b[38;5;129;01mand\u001b[39;00m \u001b[38;5;28many\u001b[39m(\u001b[38;5;28misinstance\u001b[39m(x, \u001b[38;5;28mslice\u001b[39m) \u001b[38;5;28;01mfor\u001b[39;00m x \u001b[38;5;129;01min\u001b[39;00m casted_key)\n\u001b[1;32m   3810\u001b[0m     ):\n\u001b[1;32m   3811\u001b[0m         \u001b[38;5;28;01mraise\u001b[39;00m InvalidIndexError(key)\n\u001b[0;32m-> 3812\u001b[0m     \u001b[38;5;28;01mraise\u001b[39;00m \u001b[38;5;167;01mKeyError\u001b[39;00m(key) \u001b[38;5;28;01mfrom\u001b[39;00m \u001b[38;5;21;01merr\u001b[39;00m\n\u001b[1;32m   3813\u001b[0m \u001b[38;5;28;01mexcept\u001b[39;00m \u001b[38;5;167;01mTypeError\u001b[39;00m:\n\u001b[1;32m   3814\u001b[0m     \u001b[38;5;66;03m# If we have a listlike key, _check_indexing_error will raise\u001b[39;00m\n\u001b[1;32m   3815\u001b[0m     \u001b[38;5;66;03m#  InvalidIndexError. Otherwise we fall through and re-raise\u001b[39;00m\n\u001b[1;32m   3816\u001b[0m     \u001b[38;5;66;03m#  the TypeError.\u001b[39;00m\n\u001b[1;32m   3817\u001b[0m     \u001b[38;5;28mself\u001b[39m\u001b[38;5;241m.\u001b[39m_check_indexing_error(key)\n",
      "\u001b[0;31mKeyError\u001b[0m: 'Title'"
     ]
    }
   ],
   "source": [
    "# Create a heatmap for the dissimilarity matrix\n",
    "sns.heatmap(\n",
    "    dissimilarity_matrix,\n",
    "    annot=False,\n",
    "    cmap=\"YlGnBu\",\n",
    "    xticklabels=data_subset['Title'],\n",
    "    yticklabels=data_subset['Title']\n",
    ")\n",
    "plt.title(\"Weighted Dissimilarity Matrix\")\n",
    "plt.xticks(rotation=90)\n",
    "plt.yticks(rotation=0)\n",
    "plt.show()"
   ]
  },
  {
   "cell_type": "code",
   "execution_count": null,
   "id": "3bfc3b0d-4653-40d0-ba7c-bd29e3221d50",
   "metadata": {},
   "outputs": [],
   "source": []
  },
  {
   "cell_type": "code",
   "execution_count": null,
   "id": "9345d347-41e9-42e3-ab69-ab2320212c6e",
   "metadata": {},
   "outputs": [],
   "source": []
  }
 ],
 "metadata": {
  "kernelspec": {
   "display_name": "Python 3 (ipykernel)",
   "language": "python",
   "name": "python3"
  },
  "language_info": {
   "codemirror_mode": {
    "name": "ipython",
    "version": 3
   },
   "file_extension": ".py",
   "mimetype": "text/x-python",
   "name": "python",
   "nbconvert_exporter": "python",
   "pygments_lexer": "ipython3",
   "version": "3.12.7"
  }
 },
 "nbformat": 4,
 "nbformat_minor": 5
}
